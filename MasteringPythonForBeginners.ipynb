{
 "cells": [
  {
   "cell_type": "markdown",
   "id": "444fd299",
   "metadata": {},
   "source": [
    "# HERE IS HOW IT BEGAN"
   ]
  },
  {
   "cell_type": "markdown",
   "id": "5327ddf0",
   "metadata": {},
   "source": [
    "1st stage of programming language with python."
   ]
  },
  {
   "cell_type": "code",
   "execution_count": 1,
   "id": "67e74669",
   "metadata": {},
   "outputs": [
    {
     "name": "stdout",
     "output_type": "stream",
     "text": [
      "Hello World\n"
     ]
    }
   ],
   "source": [
    "print(\"Hello World\")"
   ]
  },
  {
   "cell_type": "markdown",
   "id": "fb8287d3-7538-44d4-99e8-9a876d6dbdff",
   "metadata": {},
   "source": [
    "# VARIABLES AND OPERATORS"
   ]
  },
  {
   "cell_type": "markdown",
   "id": "4c9daf65-d6d0-424a-a23f-44f3252a2ab1",
   "metadata": {},
   "source": [
    "Variables are container used to store data type."
   ]
  },
  {
   "cell_type": "markdown",
   "id": "fc41ddd5-ccba-4ae4-b353-57d5dffbd2f8",
   "metadata": {},
   "source": [
    "Types of Variable\n",
    "Camel Case = casalCase\n",
    "Pascal Case = PascalCase\n",
    "Snake case = snake_case"
   ]
  },
  {
   "cell_type": "code",
   "execution_count": 4,
   "id": "c82a5767",
   "metadata": {},
   "outputs": [],
   "source": [
    "x = 3"
   ]
  },
  {
   "cell_type": "code",
   "execution_count": 1,
   "id": "72f588e7",
   "metadata": {},
   "outputs": [
    {
     "name": "stdout",
     "output_type": "stream",
     "text": [
      "Interactive namespace is empty.\n"
     ]
    }
   ],
   "source": [
    "%whos"
   ]
  },
  {
   "cell_type": "code",
   "execution_count": 6,
   "id": "dd643379",
   "metadata": {},
   "outputs": [
    {
     "name": "stdout",
     "output_type": "stream",
     "text": [
      "<class 'int'>\n"
     ]
    }
   ],
   "source": [
    "print(type(x))"
   ]
  },
  {
   "cell_type": "code",
   "execution_count": 10,
   "id": "20cc17f5",
   "metadata": {},
   "outputs": [],
   "source": [
    "a,b,c,d = 5,2+6j,3.5,2.0"
   ]
  },
  {
   "cell_type": "code",
   "execution_count": 11,
   "id": "ee434051",
   "metadata": {},
   "outputs": [
    {
     "name": "stdout",
     "output_type": "stream",
     "text": [
      "Variable   Type       Data/Info\n",
      "-------------------------------\n",
      "a          int        5\n",
      "b          complex    (2+6j)\n",
      "c          float      3.5\n",
      "d          float      2.0\n",
      "x          int        3\n"
     ]
    }
   ],
   "source": [
    "%whos"
   ]
  },
  {
   "cell_type": "markdown",
   "id": "4673fbc3",
   "metadata": {},
   "source": [
    "To delete a variable, use del and the variable name. e.g\n",
    "\n",
    "del abcd"
   ]
  },
  {
   "cell_type": "code",
   "execution_count": null,
   "id": "2026a6d7",
   "metadata": {
    "scrolled": true
   },
   "outputs": [],
   "source": [
    "Operators: are functions\n",
    "    \n",
    "    Symbol              task performed\n",
    "     *                  Multiplication\n",
    "     -                  Subtraction\n",
    "     /                  Division\n",
    "     +                  Addition\n",
    "     %                  mod(this returns the reminder of division. eg 11%2 = 1)\n",
    "     ==                 Equal to\n",
    "     //                 Floor division(this returns the quotient value. eg 11//2 = 5)\n",
    "     **                 Raise to power\n",
    "    "
   ]
  },
  {
   "cell_type": "markdown",
   "id": "1fabfd2c-8085-4a5b-a518-f05ffcd67c3c",
   "metadata": {},
   "source": [
    "# DATA TYPES\n",
    "\n",
    "\n",
    "1. Strings: 'single quote', \"double quote\", \"\"\" multiline \"\"\"\n",
    "2. numbers: int, float\n",
    "3. boolen: True or False\n",
    "4. Dictionary: key value indicator {\"name\": \"Abigail Ogun\", \"age\":30, \"gender\":\"female\", \"siblings\":[\"Adeyemi\",\"Tomiwa\"]}\n",
    "   It is a collection which is ordered*, changeable and do not allow duplicates.\n",
    "5. Tuple: it is used to store multiple items in a single variable. It is a collection which is ordered and unchangeable.\n",
    "6. list: []\n",
    "7. Set:{} only uniqe values are outputed. it can also be used to identify relations in 2 data sets.\n",
    "    It is a collection which is unordered, unchangeable, and unindexed.\n"
   ]
  },
  {
   "cell_type": "markdown",
   "id": "a2dd8237-9682-4aa9-aace-47e0a1e49e57",
   "metadata": {},
   "source": [
    " Boolen Type and comparisons.\n",
    " \n",
    " Bool has two statment which is either TRUE or FALSE\n",
    " \n",
    "    Symbol             task performed\n",
    "      ==                equal to\n",
    "      !=                not equal to\n",
    "      <                 less than\n",
    "      >                 greater than\n",
    "      <=                less than or equal to\n",
    "      >=                greater than or equal to\n",
    "      "
   ]
  },
  {
   "cell_type": "markdown",
   "id": "424111a3",
   "metadata": {},
   "source": [
    "Types of boolen operators are:\n",
    "    And, or , not\n",
    "    \n",
    "   Note: True and True     = True\n",
    "         True and False    = False\n",
    "         False and False   = False\n",
    "         False or False    = False\n",
    "         not(true).        = False\n",
    "         note(false)       = True\n",
    "         "
   ]
  },
  {
   "cell_type": "code",
   "execution_count": 27,
   "id": "710b4521",
   "metadata": {},
   "outputs": [],
   "source": [
    "k = True\n",
    "h = True\n",
    "i = False"
   ]
  },
  {
   "cell_type": "code",
   "execution_count": 30,
   "id": "0f9d1acc",
   "metadata": {},
   "outputs": [
    {
     "name": "stdout",
     "output_type": "stream",
     "text": [
      "True\n",
      "False\n"
     ]
    }
   ],
   "source": [
    "print(k and h)\n",
    "print(i and k)"
   ]
  },
  {
   "cell_type": "code",
   "execution_count": 31,
   "id": "a37f9736",
   "metadata": {},
   "outputs": [
    {
     "name": "stdout",
     "output_type": "stream",
     "text": [
      "True\n"
     ]
    }
   ],
   "source": [
    "print(k or h)"
   ]
  },
  {
   "cell_type": "code",
   "execution_count": 38,
   "id": "677da73a",
   "metadata": {
    "scrolled": true
   },
   "outputs": [
    {
     "data": {
      "text/plain": [
       "False"
      ]
     },
     "execution_count": 38,
     "metadata": {},
     "output_type": "execute_result"
    }
   ],
   "source": [
    "not(k)"
   ]
  },
  {
   "cell_type": "code",
   "execution_count": 39,
   "id": "3e358f38",
   "metadata": {},
   "outputs": [
    {
     "data": {
      "text/plain": [
       "False"
      ]
     },
     "execution_count": 39,
     "metadata": {},
     "output_type": "execute_result"
    }
   ],
   "source": [
    "not((k and h) or (i and k))"
   ]
  },
  {
   "cell_type": "code",
   "execution_count": 44,
   "id": "8ff8bde2",
   "metadata": {},
   "outputs": [],
   "source": [
    "m = 3<5"
   ]
  },
  {
   "cell_type": "code",
   "execution_count": 45,
   "id": "7b7576bb",
   "metadata": {},
   "outputs": [
    {
     "name": "stdout",
     "output_type": "stream",
     "text": [
      "<class 'bool'>\n",
      "True\n"
     ]
    }
   ],
   "source": [
    "print(type(m))\n",
    "print(m)"
   ]
  },
  {
   "cell_type": "code",
   "execution_count": 46,
   "id": "43a3d129",
   "metadata": {},
   "outputs": [
    {
     "name": "stdout",
     "output_type": "stream",
     "text": [
      "False\n"
     ]
    }
   ],
   "source": [
    "print((not(2!=3) and True) or (False and True))"
   ]
  },
  {
   "cell_type": "markdown",
   "id": "2f68f0f6",
   "metadata": {},
   "source": [
    " Number Type\n",
    "\n",
    "x = 2.         integer\n",
    "y = 3.5.       float\n",
    "z = 2+5j.      complex"
   ]
  },
  {
   "cell_type": "code",
   "execution_count": 1,
   "id": "5e43c06f",
   "metadata": {},
   "outputs": [
    {
     "name": "stdout",
     "output_type": "stream",
     "text": [
      "14\n"
     ]
    }
   ],
   "source": [
    "a = 10\n",
    "b = 4\n",
    "print(a + b)"
   ]
  },
  {
   "cell_type": "code",
   "execution_count": 3,
   "id": "06ec4e04",
   "metadata": {},
   "outputs": [
    {
     "name": "stdout",
     "output_type": "stream",
     "text": [
      "Enter a number : 56\n"
     ]
    }
   ],
   "source": [
    "x =input(\"Enter a number : \")"
   ]
  },
  {
   "cell_type": "code",
   "execution_count": 4,
   "id": "c051ff2d",
   "metadata": {},
   "outputs": [
    {
     "data": {
      "text/plain": [
       "str"
      ]
     },
     "execution_count": 4,
     "metadata": {},
     "output_type": "execute_result"
    }
   ],
   "source": [
    "type(x)"
   ]
  },
  {
   "cell_type": "code",
   "execution_count": 48,
   "id": "b09fb793",
   "metadata": {},
   "outputs": [],
   "source": [
    "x = int(x)"
   ]
  },
  {
   "cell_type": "code",
   "execution_count": 49,
   "id": "7ab6e120",
   "metadata": {},
   "outputs": [
    {
     "name": "stdout",
     "output_type": "stream",
     "text": [
      "3\n"
     ]
    }
   ],
   "source": [
    "print(x)"
   ]
  },
  {
   "cell_type": "code",
   "execution_count": 12,
   "id": "630e4682",
   "metadata": {
    "scrolled": true
   },
   "outputs": [
    {
     "name": "stdout",
     "output_type": "stream",
     "text": [
      "24\n"
     ]
    }
   ],
   "source": [
    "print(x-32)"
   ]
  },
  {
   "cell_type": "markdown",
   "id": "265a8b2d",
   "metadata": {},
   "source": [
    "# FUNCTIONS"
   ]
  },
  {
   "cell_type": "markdown",
   "id": "9733e5a9",
   "metadata": {},
   "source": [
    "1. round() function rounds the input value to a specific number of places or to the nearest integer.\n",
    "\n",
    "Round is a function while the int or float is an arguement"
   ]
  },
  {
   "cell_type": "code",
   "execution_count": 53,
   "id": "bb6c0cf6",
   "metadata": {},
   "outputs": [
    {
     "name": "stdout",
     "output_type": "stream",
     "text": [
      "6\n",
      "5.9\n"
     ]
    }
   ],
   "source": [
    "print(round(5.89392))\n",
    "print(round(5.89514,2))"
   ]
  },
  {
   "cell_type": "markdown",
   "id": "c5c45d8b",
   "metadata": {},
   "source": [
    "2. Divmod(x,y): this outputs the quotent and the reminder in a tuple."
   ]
  },
  {
   "cell_type": "code",
   "execution_count": 2,
   "id": "77ca6b44",
   "metadata": {},
   "outputs": [
    {
     "data": {
      "text/plain": [
       "(4, 3)"
      ]
     },
     "execution_count": 2,
     "metadata": {},
     "output_type": "execute_result"
    }
   ],
   "source": [
    "divmod(27,6)"
   ]
  },
  {
   "cell_type": "code",
   "execution_count": 55,
   "id": "ad291620",
   "metadata": {},
   "outputs": [
    {
     "data": {
      "text/plain": [
       "4"
      ]
     },
     "execution_count": 55,
     "metadata": {},
     "output_type": "execute_result"
    }
   ],
   "source": [
    "27//6"
   ]
  },
  {
   "cell_type": "code",
   "execution_count": 56,
   "id": "ed12a3ca",
   "metadata": {},
   "outputs": [
    {
     "data": {
      "text/plain": [
       "3"
      ]
     },
     "execution_count": 56,
     "metadata": {},
     "output_type": "execute_result"
    }
   ],
   "source": [
    "27%6"
   ]
  },
  {
   "cell_type": "markdown",
   "id": "15b2ecc3",
   "metadata": {},
   "source": [
    "isinstance()returns true if the first argument is an instance of that class. Multiple classes can also be checked at once."
   ]
  },
  {
   "cell_type": "code",
   "execution_count": 58,
   "id": "c65a0d58",
   "metadata": {},
   "outputs": [
    {
     "name": "stdout",
     "output_type": "stream",
     "text": [
      "True\n",
      "False\n",
      "True\n"
     ]
    }
   ],
   "source": [
    "print(isinstance(1,int))\n",
    "print(isinstance(2.5,int))\n",
    "print(isinstance(2.5,(int,float)))"
   ]
  },
  {
   "cell_type": "code",
   "execution_count": 3,
   "id": "fa07b014",
   "metadata": {},
   "outputs": [
    {
     "data": {
      "text/plain": [
       "(4, 3)"
      ]
     },
     "execution_count": 3,
     "metadata": {},
     "output_type": "execute_result"
    }
   ],
   "source": [
    "divmod(27,6)"
   ]
  },
  {
   "cell_type": "code",
   "execution_count": 10,
   "id": "237e695b-0b17-4ba0-826f-642046f23651",
   "metadata": {},
   "outputs": [],
   "source": [
    "def first_func():\n",
    "    print('we did it')"
   ]
  },
  {
   "cell_type": "code",
   "execution_count": 11,
   "id": "e47a127f-a4de-4c4b-8a38-663e7e999eec",
   "metadata": {},
   "outputs": [
    {
     "name": "stdout",
     "output_type": "stream",
     "text": [
      "we did it\n"
     ]
    }
   ],
   "source": [
    "first_func()"
   ]
  },
  {
   "cell_type": "code",
   "execution_count": 31,
   "id": "e8082785-09de-4a56-9e15-dc3a001d96ee",
   "metadata": {},
   "outputs": [],
   "source": [
    "def number_squared(number):\n",
    "    print (number**2)"
   ]
  },
  {
   "cell_type": "code",
   "execution_count": 32,
   "id": "43bec6ea-6069-4bc0-9c36-1af5b387c76c",
   "metadata": {},
   "outputs": [
    {
     "name": "stdout",
     "output_type": "stream",
     "text": [
      "25\n"
     ]
    }
   ],
   "source": [
    "number_squared(5)"
   ]
  },
  {
   "cell_type": "code",
   "execution_count": 33,
   "id": "4ff302b6-279b-4185-bf40-cb27789d5ddd",
   "metadata": {},
   "outputs": [],
   "source": [
    "def number_squared_cust(number, power):\n",
    "    print (number**power)"
   ]
  },
  {
   "cell_type": "code",
   "execution_count": null,
   "id": "2aa5fa3f-1ddb-4d5c-a666-c4c8265634f7",
   "metadata": {},
   "outputs": [
    {
     "name": "stdout",
     "output_type": "stream",
     "text": [
      "125\n"
     ]
    }
   ],
   "source": [
    "number_squared_cust(5,3)"
   ]
  },
  {
   "cell_type": "markdown",
   "id": "c9f30a5c-edfb-4faf-a255-fab4ace65f1d",
   "metadata": {},
   "source": [
    "# Method Description\n",
    "\n",
    "split = split(\",\")\n",
    "\n",
    "len() = length of a text\n",
    "\n",
    "slice = Specify the start index and the end index, separated by a colon, to return a part of the string. e.g print(b[2:5])\n",
    "\n",
    "upper()\n",
    "\n",
    "lower()\n",
    "\n",
    "replace(\"a\",\"b\")\n",
    "\n",
    "concertinanate using \"+\"\n",
    "\n",
    "format() using {}. Use the format() method to insert numbers into strings:\n",
    "\n",
    "\\' = Single Quote\n",
    "\n",
    "\\\\ = Backslash\n",
    "\n",
    "\\n = New Line\n",
    "\n",
    "\\r = Carriage Return\n",
    "\n",
    "\\t = Tab\n",
    "\n",
    "\\b = Backspace\n",
    "\n",
    "\\f = Form Feed\n",
    "\n",
    "\\ooo = Octal value\n",
    "\n",
    "\\xhh = Hex value \n",
    "\n",
    "# String Methods\n",
    "\n",
    "\"\"\" \n",
    "capitalize() = Converts the first character to upper case\n",
    "\n",
    "casefold() = Converts string into lower case\n",
    "\n",
    "center() = Returns a centered string\n",
    "\n",
    "count() = Returns the number of times a specified value occurs in a string\n",
    "\n",
    "encode() = Returns an encoded version of the string\n",
    "\n",
    "endswith() = Returns true if the string ends with the specified value\n",
    "\n",
    "expandtabs() = Sets the tab size of the string\n",
    "\n",
    "find() = Searches the string for a specified value and returns the position of where it was found\n",
    "\n",
    "format() = Formats specified values in a string\n",
    "\n",
    "format_map() = Formats specified values in a string\n",
    "\n",
    "index() = Searches the string for a specified value and returns the position of where it was found\n",
    "\n",
    "isalnum() = Returns True if all characters in the string are alphanumeric\n",
    "\n",
    "isalpha() = Returns True if all characters in the string are in the alphabet\n",
    "\n",
    "isascii() = Returns True if all characters in the string are ascii characters\n",
    "\n",
    "isdecimal()  = Returns True if all characters in the string are decimals\n",
    "\n",
    "isdigit()\tReturns True if all characters in the string are digits\n",
    "\n",
    "isidentifier()\tReturns True if the string is an identifier\n",
    "\n",
    "islower()\tReturns True if all characters in the string are lower case\n",
    "\n",
    "isnumeric()\tReturns True if all characters in the string are numeric\n",
    "\n",
    "isprintable()\tReturns True if all characters in the string are printable\n",
    "\n",
    "isspace()\tReturns True if all characters in the string are whitespaces\n",
    "\n",
    "istitle()\tReturns True if the string follows the rules of a title\n",
    "\n",
    "isupper()\tReturns True if all characters in the string are upper case\n",
    "\n",
    "join()\tJoins the elements of an iterable to the end of the string\n",
    "\n",
    "ljust()\tReturns a left justified version of the string\n",
    "\n",
    "lower()\tConverts a string into lower case\n",
    "\n",
    "lstrip()\tReturns a left trim version of the string\n",
    "\n",
    "maketrans()\tReturns a translation table to be used in translations\n",
    "\n",
    "partition()\tReturns a tuple where the string is parted into three parts\n",
    "\n",
    "replace()\tReturns a string where a specified value is replaced with a specified value\n",
    "\n",
    "rfind()\tSearches the string for a specified value and returns the last position of where it was found\n",
    "\n",
    "rindex()\tSearches the string for a specified value and returns the last position of where it was found\n",
    "\n",
    "rjust()\tReturns a right justified version of the string\n",
    "\n",
    "rpartition()\tReturns a tuple where the string is parted into three parts\n",
    "\n",
    "rsplit()\tSplits the string at the specified separator, and returns a list\n",
    "\n",
    "rstrip()\tReturns a right trim version of the string\n",
    "\n",
    "split()\tSplits the string at the specified separator, and returns a list\n",
    "\n",
    "splitlines()\tSplits the string at line breaks and returns a list\n",
    "\n",
    "startswith()\tReturns true if the string starts with the specified value\n",
    "\n",
    "strip()\tReturns a trimmed version of the string\n",
    "\n",
    "swapcase()\tSwaps cases, lower case becomes upper case and vice versa\n",
    "\n",
    "title()\tConverts the first character of each word to upper case\n",
    "\n",
    "translate()\tReturns a translated string\n",
    "\n",
    "upper()\tConverts a string into upper case\n",
    "\n",
    "zfill()\tFills the string with a specified number of 0 values at the beginning \"\"\""
   ]
  },
  {
   "cell_type": "code",
   "execution_count": null,
   "id": "f87c407f-c2c0-4c6b-968f-b888074b661b",
   "metadata": {},
   "outputs": [],
   "source": [
    "# key word argument"
   ]
  },
  {
   "cell_type": "markdown",
   "id": "b560f00f-7045-4d2d-a360-a5a4759a283e",
   "metadata": {},
   "source": [
    "\"*\" or \"**\" in front of an arg is passes when the size of the input is not known"
   ]
  },
  {
   "cell_type": "code",
   "execution_count": 44,
   "id": "f05fb387-b089-45ab-996b-7bd874523ee9",
   "metadata": {},
   "outputs": [],
   "source": [
    "args_tuple = (4,2,8,9,1)\n",
    "\n",
    "def number_arg(*number):\n",
    "    print (number[0]*number[2])    \n"
   ]
  },
  {
   "cell_type": "code",
   "execution_count": 45,
   "id": "c6a74ce0-2f6d-473f-bc4e-31452c0e71f2",
   "metadata": {},
   "outputs": [
    {
     "name": "stdout",
     "output_type": "stream",
     "text": [
      "32\n"
     ]
    }
   ],
   "source": [
    "number_arg(*args_tuple)"
   ]
  },
  {
   "cell_type": "code",
   "execution_count": 46,
   "id": "49c7082d-8d23-42a5-ade6-09672a46e310",
   "metadata": {},
   "outputs": [],
   "source": [
    "def number_squared_cust(number, power):\n",
    "    print (number**power)"
   ]
  },
  {
   "cell_type": "code",
   "execution_count": 47,
   "id": "c9f50dbf-bc99-48e3-8adb-f77d45650915",
   "metadata": {},
   "outputs": [
    {
     "name": "stdout",
     "output_type": "stream",
     "text": [
      "243\n"
     ]
    }
   ],
   "source": [
    "number_squared_cust(power =5, number =3)"
   ]
  },
  {
   "cell_type": "code",
   "execution_count": 63,
   "id": "b650b486-e7cc-4ea5-85b2-6c08ed7c30fd",
   "metadata": {},
   "outputs": [],
   "source": [
    "def number_karg(**number):\n",
    "    print ('My number is: ' + number['integer'] + \" \"+ 'My second number is: ' + number['interger2']) "
   ]
  },
  {
   "cell_type": "code",
   "execution_count": 64,
   "id": "3e57d2de-30a2-470d-a421-16ca5d90872b",
   "metadata": {},
   "outputs": [
    {
     "name": "stdout",
     "output_type": "stream",
     "text": [
      "My number is: 2345 My second number is: 3456\n"
     ]
    }
   ],
   "source": [
    "number_karg(integer = '2345',interger2 = '3456')"
   ]
  },
  {
   "cell_type": "markdown",
   "id": "4de92ae2-00ed-47d1-9a8c-bdaafca00278",
   "metadata": {},
   "source": [
    "# Converting data types"
   ]
  },
  {
   "cell_type": "code",
   "execution_count": 66,
   "id": "51ac5aff-3693-4618-a059-b0a9c48e283f",
   "metadata": {},
   "outputs": [
    {
     "data": {
      "text/plain": [
       "int"
      ]
     },
     "execution_count": 66,
     "metadata": {},
     "output_type": "execute_result"
    }
   ],
   "source": [
    "num_int = 7\n",
    "type(num_int)"
   ]
  },
  {
   "cell_type": "code",
   "execution_count": 67,
   "id": "b2cf1e8b-684b-48bf-8292-aadc7ca6959a",
   "metadata": {},
   "outputs": [
    {
     "data": {
      "text/plain": [
       "str"
      ]
     },
     "execution_count": 67,
     "metadata": {},
     "output_type": "execute_result"
    }
   ],
   "source": [
    "num_str = '7'\n",
    "type(num_str)"
   ]
  },
  {
   "cell_type": "code",
   "execution_count": 68,
   "id": "62af757a-38cc-4e26-8164-0ee4509a9256",
   "metadata": {},
   "outputs": [
    {
     "data": {
      "text/plain": [
       "str"
      ]
     },
     "execution_count": 68,
     "metadata": {},
     "output_type": "execute_result"
    }
   ],
   "source": [
    "num_str_cont = int(num_str)\n",
    "type(num_str)"
   ]
  },
  {
   "cell_type": "code",
   "execution_count": 70,
   "id": "ab3675fb-9376-48eb-b305-dca895c6a065",
   "metadata": {},
   "outputs": [
    {
     "name": "stdout",
     "output_type": "stream",
     "text": [
      "14\n"
     ]
    }
   ],
   "source": [
    "sum_num = num_int + num_str_cont\n",
    "print(sum_num)"
   ]
  },
  {
   "cell_type": "code",
   "execution_count": 72,
   "id": "211d3696-80fe-4b11-8d26-247782761379",
   "metadata": {},
   "outputs": [
    {
     "data": {
      "text/plain": [
       "list"
      ]
     },
     "execution_count": 72,
     "metadata": {},
     "output_type": "execute_result"
    }
   ],
   "source": [
    "list_type = [1,2,5,6,3]\n",
    "type(list_type)"
   ]
  },
  {
   "cell_type": "code",
   "execution_count": 73,
   "id": "b232438c-68e5-48a5-9ec9-6ae5b3f32b45",
   "metadata": {},
   "outputs": [
    {
     "data": {
      "text/plain": [
       "tuple"
      ]
     },
     "execution_count": 73,
     "metadata": {},
     "output_type": "execute_result"
    }
   ],
   "source": [
    "type(tuple(list_type))"
   ]
  },
  {
   "cell_type": "code",
   "execution_count": 74,
   "id": "6bbb920f-1766-48ee-9cc9-f1381940b419",
   "metadata": {},
   "outputs": [],
   "source": [
    "list_type = [1,6,7,7,3,2,5,3,2,0]"
   ]
  },
  {
   "cell_type": "code",
   "execution_count": 75,
   "id": "740450c4-18d2-4e1c-b07c-2962dcf64c6f",
   "metadata": {},
   "outputs": [
    {
     "data": {
      "text/plain": [
       "{0, 1, 2, 3, 5, 6, 7}"
      ]
     },
     "execution_count": 75,
     "metadata": {},
     "output_type": "execute_result"
    }
   ],
   "source": [
    "set(list_type)"
   ]
  },
  {
   "cell_type": "code",
   "execution_count": 77,
   "id": "930ee922-b118-471f-8cdc-9bf461390991",
   "metadata": {},
   "outputs": [
    {
     "data": {
      "text/plain": [
       "set"
      ]
     },
     "execution_count": 77,
     "metadata": {},
     "output_type": "execute_result"
    }
   ],
   "source": [
    "type(set(list_type))"
   ]
  },
  {
   "cell_type": "code",
   "execution_count": 83,
   "id": "31c31fbf-a379-4283-8c4b-f0dbd2337394",
   "metadata": {},
   "outputs": [],
   "source": [
    "dict_type = {'name': 'Abigail', 'Age':30, 'Hair colour': 'Black'}"
   ]
  },
  {
   "cell_type": "code",
   "execution_count": 84,
   "id": "4be316c8-9e3c-4711-9dff-d0ec42fd2aab",
   "metadata": {},
   "outputs": [
    {
     "data": {
      "text/plain": [
       "dict"
      ]
     },
     "execution_count": 84,
     "metadata": {},
     "output_type": "execute_result"
    }
   ],
   "source": [
    "type(dict_type)"
   ]
  },
  {
   "cell_type": "code",
   "execution_count": 86,
   "id": "668492f0-f879-4011-b285-237c526bdc23",
   "metadata": {},
   "outputs": [
    {
     "data": {
      "text/plain": [
       "dict_items([('name', 'Abigail'), ('Age', 30), ('Hair colour', 'Black')])"
      ]
     },
     "execution_count": 86,
     "metadata": {},
     "output_type": "execute_result"
    }
   ],
   "source": [
    "dict_type.items()"
   ]
  },
  {
   "cell_type": "code",
   "execution_count": 87,
   "id": "35e92d4d-ba4b-4aec-9cb5-578b9f5b5915",
   "metadata": {},
   "outputs": [
    {
     "data": {
      "text/plain": [
       "dict_values(['Abigail', 30, 'Black'])"
      ]
     },
     "execution_count": 87,
     "metadata": {},
     "output_type": "execute_result"
    }
   ],
   "source": [
    "dict_type.values()"
   ]
  },
  {
   "cell_type": "code",
   "execution_count": 88,
   "id": "e0a5c5e5-04db-417a-b514-9820157da335",
   "metadata": {},
   "outputs": [
    {
     "data": {
      "text/plain": [
       "dict_keys(['name', 'Age', 'Hair colour'])"
      ]
     },
     "execution_count": 88,
     "metadata": {},
     "output_type": "execute_result"
    }
   ],
   "source": [
    "dict_type.keys()"
   ]
  },
  {
   "cell_type": "code",
   "execution_count": 90,
   "id": "5a6924c0-a927-4f9e-a613-e5d67bcbc125",
   "metadata": {},
   "outputs": [
    {
     "data": {
      "text/plain": [
       "['name', 'Age', 'Hair colour']"
      ]
     },
     "execution_count": 90,
     "metadata": {},
     "output_type": "execute_result"
    }
   ],
   "source": [
    "list(dict_type.keys())"
   ]
  },
  {
   "cell_type": "code",
   "execution_count": null,
   "id": "dc5e1148-c790-4b64-b2b4-c66dd72fd80d",
   "metadata": {},
   "outputs": [],
   "source": []
  },
  {
   "cell_type": "markdown",
   "id": "029da879-3d83-4c12-aad4-208958b5ee2a",
   "metadata": {},
   "source": [
    "# BMI Calculator"
   ]
  },
  {
   "cell_type": "code",
   "execution_count": 96,
   "id": "b2428f68-a2eb-4822-8cb5-671b5a6850ba",
   "metadata": {},
   "outputs": [
    {
     "name": "stdin",
     "output_type": "stream",
     "text": [
      "Enter your name:  Abi\n",
      "Enter your weight in pounds:  64\n",
      "Enter your height in cm:  168\n"
     ]
    },
    {
     "name": "stdout",
     "output_type": "stream",
     "text": [
      "22.7\n",
      "Abi, you are normal weight.\n"
     ]
    }
   ],
   "source": [
    "name = input(\"Enter your name: \")\n",
    "\n",
    "weight = int(input(\"Enter your weight in pounds: \"))\n",
    "height = int(input(\"Enter your height in cm: \"))\n",
    "BMI = (weight/ height/ height)*10000\n",
    "\n",
    "print(round(BMI,1))\n",
    "\n",
    "if BMI>0:\n",
    "    if(BMI<18.5):\n",
    "        print(name + \", you are underweight.\")\n",
    "    elif(BMI<=24.9):\n",
    "        print(name + \", you are normal weight.\")\n",
    "    elif(BMI<29.9):\n",
    "        print(name + \", you are overweight.\")\n",
    "    elif(BMI<34.9):\n",
    "        print(name + \", you are obese.\")\n",
    "    elif(BMI<39.9):\n",
    "        print(name + \", you are severely obese.\")\n",
    "    else:\n",
    "        print(name + \", you are morbidely obese.\")\n",
    "else:\n",
    "    print(\"Enter valid input\")"
   ]
  },
  {
   "cell_type": "code",
   "execution_count": null,
   "id": "203e92bc-5cba-4ba1-86de-cdc0beb5b0c0",
   "metadata": {},
   "outputs": [],
   "source": []
  }
 ],
 "metadata": {
  "kernelspec": {
   "display_name": "Python 3 (ipykernel)",
   "language": "python",
   "name": "python3"
  },
  "language_info": {
   "codemirror_mode": {
    "name": "ipython",
    "version": 3
   },
   "file_extension": ".py",
   "mimetype": "text/x-python",
   "name": "python",
   "nbconvert_exporter": "python",
   "pygments_lexer": "ipython3",
   "version": "3.9.7"
  }
 },
 "nbformat": 4,
 "nbformat_minor": 5
}
